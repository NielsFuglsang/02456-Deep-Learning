{
 "cells": [
  {
   "cell_type": "markdown",
   "metadata": {},
   "source": [
    "# Code for the final report in 02456 Deep Learning "
   ]
  },
  {
   "cell_type": "markdown",
   "metadata": {},
   "source": [
    "**Authors:** *Mads Emil Dahlgaard (S164206), Morten Wehlast Jørgensen (S147056), and Niels Asp Fuglsang (S164181)*"
   ]
  },
  {
   "cell_type": "markdown",
   "metadata": {},
   "source": [
    "This notebook explains the code and recreates the main results from the report *An analysis of levers in deep reinforcement learning and how they affect learning speed and generalization*. The full code base can be found at https://github.com/NielsFuglsang/02456-Deep-Learning."
   ]
  },
  {
   "cell_type": "markdown",
   "metadata": {},
   "source": [
    "---"
   ]
  },
  {
   "cell_type": "markdown",
   "metadata": {},
   "source": [
    "## Introduction"
   ]
  },
  {
   "cell_type": "markdown",
   "metadata": {},
   "source": [
    "Deep reinforcement learning is notourisly known for results that are difficult to reproduce. Even very small changes to hyperparameters can lead to completely different results. Therefore, in this project we set out to investigate how to best increase one's chances of improving model performance. We identified the following 3 areas.\n",
    "- Data set size\n",
    "- Input transformation\n",
    "- Choice of policy optimization algorithm\n",
    "We believe that these three areas are important for any reinforcement learning practioner and particularly for newcomers to the field.\n",
    "\n",
    "In order to investigate this we use the Starpilot environment from ProcGen Benchmark. The procedurally generated environment allows for virtually unlimited training data and is a perfect starting point for investigating the importance of data set size. In order to explore input transformation we chose to focus on to different convolutional neural networks; the simple Nature CNN and the more advanced IMPALA CNN. Lastly, we compare the state-of-the-art policy optimization algorithms PPO and TRPO. To sum up, we conclude the following three points.\n",
    "- Data set size: larger volumes of varied data generally improves generalization\n",
    "- Encoders: IMPALA CNN outperforms Nature CNN even on smaller tasks\n",
    "- Policy optimization: PPO is both simpler and better performing than TRPO"
   ]
  },
  {
   "cell_type": "markdown",
   "metadata": {},
   "source": [
    "## Technical stack"
   ]
  },
  {
   "cell_type": "markdown",
   "metadata": {},
   "source": [
    "The Python version is 3.7.7 64 bit. All experiments are run on DTU HPC GPU nodes. Specifically, the experiments are run on the `gpuv100` queue consisting of 10 nodes with 2 Nvidia Tesla V100 Tensor Core GPUs - 6 of the nodes have 16GB ram and 4 of the nodes 32GB. The following list contains the most significant modules used. For a full list see `requirements.txt` in the Github repository.\n",
    "- CUDA 9.2\n",
    "- CuDNN 7.4.2.24\n",
    "- Jupyter Lab 2.2.9\n",
    "- Matplotlib 3.3.3\n",
    "- Numpy 1.19.4\n",
    "- OpenAI Gym 0.17.3\n",
    "- Procgen 0.10.4\n",
    "- PyTorch 1.7.0"
   ]
  },
  {
   "cell_type": "markdown",
   "metadata": {},
   "source": [
    "## Code structure"
   ]
  },
  {
   "cell_type": "markdown",
   "metadata": {},
   "source": [
    "We tried to make our code as modular as possible. The overall code structure looks like this"
   ]
  },
  {
   "cell_type": "markdown",
   "metadata": {},
   "source": [
    "```\n",
    "├── src\n",
    "│   └── init.py\n",
    "│   └── encoder.py         # Classes for each encoder structure.\n",
    "│   └── experiment.py      # Class for training and evaluating a policy.\n",
    "│   └── policy.py          # PPO and TRPO classes. \n",
    "│   └── utils.py           # Functions for keeping track of environments and data.\n",
    "├── params\n",
    "│   └── ...                # JSON files specifying experiment hyperparameters.\n",
    "├── .gitignore\n",
    "├── README.md\n",
    "├── job.sh                 # Jobscript for running on HPC.\n",
    "├── requirements.txt       # Python modules.\n",
    "├── run_experiment.py      # Read parameters from JSON file, train, and evaluate policy.\n",
    "├── sender.sh              # Helper function to submit jobs on HPC.\n",
    "```"
   ]
  },
  {
   "cell_type": "markdown",
   "metadata": {},
   "source": [
    "The folder `src` contains the main code for this project and is structured as a Python package. The file `encoder.py` implements the two Convolutional Neural Networks used in this project; Impala CNN and Nature CNN. The file `policy.py` contains classes for `PPO` and `TRPO` respectively with two main class methods; `act` for using the policy and sampling an action, and `loss` for returning the policy loss given some observation.\n",
    "\n",
    "The file `experiment.py` contains code for training and evaluating a policy in an environment. The `Experiment` class from `experiment.py` is independent from the choice of encoder and policy. This means that the same code can be used to train both a TRPO and a PPO policy. Therefore, we just need to specify the encoder, the policy, and the hyperparameters when creating the `Experiment` class. As an example, in order to train a PPO network with the IMPALA CNN as encoder the following code is sufficient.\n",
    "\n",
    "```python\n",
    "exp = Experiment(params)\n",
    "encoder = Impala(in_channels, feature_dim)\n",
    "policy = PPO(encoder, feature_dim, num_actions)\n",
    "policy, log = exp.train(env, policy, optimizer, storage)\n",
    "```"
   ]
  },
  {
   "cell_type": "markdown",
   "metadata": {},
   "source": [
    "Notice the variables `params`, `in_channels`, `feature_dim`, and so on. They are all hyperparameters needed to train and evaluate the policy. The combination of policy optimization algorithm, encoder, and hyperparameters is essentially what defines an experiment. We came up with a way to specify all the parameters needed to run an experiment, which enabled us to easily conduct multiple different experiments without changing the code. All the experiments are specified as JSON files in the folder `params`. An experiment could look like this.\n",
    "\n",
    "```JSON\n",
    "{\n",
    "    \"total_steps\" : 2e6,\n",
    "    \"num_envs\": 32,\n",
    "    \"num_levels\": 10,\n",
    "    \"num_steps\": 256,\n",
    "    \"num_epochs\": 3,\n",
    "    \"batch_size\": 512,\n",
    "    \"eps\": 0.2,\n",
    "    \"grad_eps\": 0.5,\n",
    "    \"value_coef\": 0.5,\n",
    "    \"entropy_coef\": 0.01,\n",
    "    \"feature_dim\": 128,\n",
    "    \"policy\": \"ppo\",\n",
    "    \"encoder\": \"nature\",\n",
    "    \"beta\": 0,\n",
    "    \"lr\": 5e-4\n",
    "}\n",
    "```"
   ]
  },
  {
   "cell_type": "markdown",
   "metadata": {},
   "source": [
    "The Python file `run_experiment.py` then takes as argument the filename of a JSON file with experiment parameters and runs the entire pipeline, i.e., train, evaluate, and save the results. If the above parameters are stored in `params/experiment1.json`, then the experiment can be executed by the following command.\n",
    "```sh\n",
    ">> python run_experiment.py experiment1\n",
    "```"
   ]
  },
  {
   "cell_type": "markdown",
   "metadata": {},
   "source": [
    "### Running the code on DTU HPC\n",
    "\n",
    "We needed to specify the above as a jobscript in order to run the experiments on the DTU HPC cluster queue system. The jobscript is shown below."
   ]
  },
  {
   "cell_type": "markdown",
   "metadata": {},
   "source": [
    "```sh\n",
    "#!/bin/sh\n",
    "#BSUB -q gpuv100\n",
    "#BSUB -gpu \"num=1\"\n",
    "#BSUB -J name\n",
    "#BSUB -n 1\n",
    "#BSUB -W 10:00\n",
    "#BSUB -R \"rusage[mem=32GB]\"\n",
    "#BSUB -o logs/name.out\n",
    "#BSUB -e logs/name.err\n",
    "\n",
    "cd /zhome/ff/2/118359/projects/02456-Deep-Learning\n",
    "source .venv/bin/activate\n",
    "\n",
    "echo \"Running script...\"\n",
    "python run_experiment.py name\n",
    "```"
   ]
  },
  {
   "cell_type": "markdown",
   "metadata": {},
   "source": [
    "Now in order to simplify this even further we created a small shell script that exchanges `name` in the above with an input argument and submits it to the queue using `bsub`. This script is called `sender.sh`. Therefore, one can simply conduct an experiment by creating a parameters JSON file and submitting the experiment like this\n",
    "```sh\n",
    "source sender.sh name_of_experiment\n",
    "```"
   ]
  },
  {
   "cell_type": "markdown",
   "metadata": {},
   "source": [
    "This way we could easily specify and run the different experiments."
   ]
  },
  {
   "cell_type": "markdown",
   "metadata": {},
   "source": [
    "## Training loop"
   ]
  },
  {
   "cell_type": "markdown",
   "metadata": {},
   "source": [
    "In the training loop we both generate the training data and train on that data. This is possible since we are dealing with a procedurally generated environment. Therefore, the training loop goes like this.\n",
    "- Generate `num_steps` of training data.\n",
    "- Go over that training data for `num_epochs`.\n",
    "     - For each epoch calculate the loss, perform backward propagation, and update the policy.\n",
    "- Generate new data and evaluate the test reward.\n",
    "\n",
    "The above loop is run as long as the acummulated number of steps is less than `num_steps`. Notice that this is different from most real life machine learning since we are able to simply generate new data. Furthermore, the above is run simultaneously in parallel for 32 environments to speed up the process."
   ]
  },
  {
   "cell_type": "markdown",
   "metadata": {},
   "source": [
    "In order to compare training and test performance it is important that these two metrics are evaluated in the same way. We therefore use mean episodic reward. The mean episodic reward is calculated by running all 32 environments for one episode and taking the average reward over the 32 environemnts. One episode is defined from when the agent starts playing until it fails. Here is a code snippet showing how this is implemented.\n",
    "```python\n",
    "workers_finished = np.zeros((self.num_envs), dtype=bool)\n",
    "while not np.all(workers_finished):\n",
    "\n",
    "    # Use policy.\n",
    "    action, _, _, _ = policy.act(obs)\n",
    "\n",
    "    # Take step in environment.\n",
    "    obs, reward, done, _ = env.step(action)\n",
    "    for i in range(self.num_envs):\n",
    "        if done[i]:\n",
    "            workers_finished[i] = True\n",
    "        if workers_finished[i]:\n",
    "            reward[i] = 0\n",
    "\n",
    "    total_reward.append(torch.Tensor(reward))\n",
    "   \n",
    "# Calculate average reward\n",
    "mean_reward = torch.stack(total_reward).sum(0).mean(0)\n",
    "```"
   ]
  },
  {
   "cell_type": "markdown",
   "metadata": {},
   "source": [
    "This also means that the same code can be used to evaluate both training and test mean episodic reward simply by specifying what levels the agent should be evaluated on."
   ]
  },
  {
   "cell_type": "markdown",
   "metadata": {},
   "source": [
    "## Saving the results and logging"
   ]
  },
  {
   "cell_type": "markdown",
   "metadata": {},
   "source": [
    "For each experiment we save a log of the progress. This log looks like this\n",
    "```python\n",
    "log = {\n",
    "    'step': steps,\n",
    "    'train_mean_reward': train_mean_reward,\n",
    "    'train_min_reward': train_min_reward,\n",
    "    'train_max_reward': train_max_reward,\n",
    "    'test_mean_reward': test_mean_reward,\n",
    "    'test_min_reward': test_min_reward,\n",
    "    'test_max_reward': test_max_reward,\n",
    "    'pi_loss': pi_loss,\n",
    "    'value_loss': value_loss,\n",
    "    'entropy_loss': entropy_loss,\n",
    "    'test_var': test_vars,\n",
    "    'train_var': train_vars\n",
    "}\n",
    "```"
   ]
  },
  {
   "cell_type": "markdown",
   "metadata": {},
   "source": [
    "where each variable is a list of size `total_steps/num_steps`, i.e., the number of training loops. We use the function `torch.save` to save the logging files in the pickle serialization format. The results are saved to the `results` folder."
   ]
  },
  {
   "cell_type": "markdown",
   "metadata": {},
   "source": [
    "---"
   ]
  },
  {
   "cell_type": "markdown",
   "metadata": {},
   "source": [
    "## Recreating the main results"
   ]
  },
  {
   "cell_type": "markdown",
   "metadata": {},
   "source": [
    "It is unatainable to show all of the main results here since the experiments were run on the DTU HPC cluster with a compute time of multiple hours. Therefore, we will here show a much smaller experiment that showcases the procedure."
   ]
  },
  {
   "cell_type": "markdown",
   "metadata": {},
   "source": [
    "First we import the relevant modules. We need `torch` and then some custom modules contained in the `src` folder. We important the `Experiment` class and the classes for the encoders and the policies."
   ]
  },
  {
   "cell_type": "code",
   "execution_count": 1,
   "metadata": {},
   "outputs": [],
   "source": [
    "import torch\n",
    "from src.utils import make_env, Storage\n",
    "from src import Experiment, Nature, Impala, PPO, TRPO"
   ]
  },
  {
   "cell_type": "markdown",
   "metadata": {},
   "source": [
    "Now we need to specify the experiment. Here a relatively simple experiment is specified. We only run the experiment for 5e5 timesteps and with 10 training levels."
   ]
  },
  {
   "cell_type": "code",
   "execution_count": 2,
   "metadata": {},
   "outputs": [],
   "source": [
    "params = {\n",
    "    \"total_steps\" : 5e5,\n",
    "    \"num_envs\": 32,\n",
    "    \"num_levels\": 10,\n",
    "    \"num_steps\": 256,\n",
    "    \"num_epochs\": 3,\n",
    "    \"batch_size\": 512,\n",
    "    \"eps\": 0.2,\n",
    "    \"grad_eps\": 0.5,\n",
    "    \"value_coef\": 0.5,\n",
    "    \"entropy_coef\": 0.01,\n",
    "    \"feature_dim\": 32,\n",
    "    \"policy\": \"ppo\",\n",
    "    \"encoder\": \"impala\",\n",
    "    \"beta\": 0,\n",
    "    \"lr\": 5e-4\n",
    "}"
   ]
  },
  {
   "cell_type": "markdown",
   "metadata": {},
   "source": [
    "The above dictionary is the only thing that needs to be changed in order to conduct a different experiment - this makes it easy to try out different hypotheses. \n",
    "\n",
    "Next we create the Procgen Starpilot training environment. We specify that we want to train on the levels from 0 to `num_levels` which in this case is 10."
   ]
  },
  {
   "cell_type": "code",
   "execution_count": 3,
   "metadata": {},
   "outputs": [],
   "source": [
    "env = make_env(params[\"num_envs\"], env_name='starpilot', start_level=0, num_levels=params[\"num_levels\"])"
   ]
  },
  {
   "cell_type": "markdown",
   "metadata": {},
   "source": [
    "We can then define the encoder. This is done in the following way."
   ]
  },
  {
   "cell_type": "code",
   "execution_count": 4,
   "metadata": {},
   "outputs": [],
   "source": [
    "feature_dim = params['feature_dim']\n",
    "in_channels = 3 # RGB\n",
    "encoders = {\n",
    "    \"nature\": Nature(in_channels, feature_dim),\n",
    "    \"impala\": Impala(in_channels, feature_dim)\n",
    "    }\n",
    "encoder = encoders[params['encoder']]"
   ]
  },
  {
   "cell_type": "markdown",
   "metadata": {},
   "source": [
    "The policy is defined in a similar way. Furthermore, the policy is moved to the GPU by the command `policy.cuda()`. The policy is printed to for inspection of the encoder, policy, and value network."
   ]
  },
  {
   "cell_type": "code",
   "execution_count": 5,
   "metadata": {},
   "outputs": [
    {
     "name": "stdout",
     "output_type": "stream",
     "text": [
      "PPO(\n",
      "  (encoder): Impala(\n",
      "    (layers): Sequential(\n",
      "      (0): ImpalaBlock(\n",
      "        (block): Sequential(\n",
      "          (0): Conv2d(3, 16, kernel_size=(3, 3), stride=(1, 1), padding=(1, 1))\n",
      "          (1): MaxPool2d(kernel_size=3, stride=2, padding=1, dilation=1, ceil_mode=False)\n",
      "          (2): ResidualBlock(\n",
      "            (layers): Sequential(\n",
      "              (0): ReLU()\n",
      "              (1): Conv2d(16, 16, kernel_size=(3, 3), stride=(1, 1), padding=(1, 1))\n",
      "              (2): ReLU()\n",
      "              (3): Conv2d(16, 16, kernel_size=(3, 3), stride=(1, 1), padding=(1, 1))\n",
      "            )\n",
      "          )\n",
      "          (3): ResidualBlock(\n",
      "            (layers): Sequential(\n",
      "              (0): ReLU()\n",
      "              (1): Conv2d(16, 16, kernel_size=(3, 3), stride=(1, 1), padding=(1, 1))\n",
      "              (2): ReLU()\n",
      "              (3): Conv2d(16, 16, kernel_size=(3, 3), stride=(1, 1), padding=(1, 1))\n",
      "            )\n",
      "          )\n",
      "        )\n",
      "      )\n",
      "      (1): ImpalaBlock(\n",
      "        (block): Sequential(\n",
      "          (0): Conv2d(16, 32, kernel_size=(3, 3), stride=(1, 1), padding=(1, 1))\n",
      "          (1): MaxPool2d(kernel_size=3, stride=2, padding=1, dilation=1, ceil_mode=False)\n",
      "          (2): ResidualBlock(\n",
      "            (layers): Sequential(\n",
      "              (0): ReLU()\n",
      "              (1): Conv2d(32, 32, kernel_size=(3, 3), stride=(1, 1), padding=(1, 1))\n",
      "              (2): ReLU()\n",
      "              (3): Conv2d(32, 32, kernel_size=(3, 3), stride=(1, 1), padding=(1, 1))\n",
      "            )\n",
      "          )\n",
      "          (3): ResidualBlock(\n",
      "            (layers): Sequential(\n",
      "              (0): ReLU()\n",
      "              (1): Conv2d(32, 32, kernel_size=(3, 3), stride=(1, 1), padding=(1, 1))\n",
      "              (2): ReLU()\n",
      "              (3): Conv2d(32, 32, kernel_size=(3, 3), stride=(1, 1), padding=(1, 1))\n",
      "            )\n",
      "          )\n",
      "        )\n",
      "      )\n",
      "      (2): ImpalaBlock(\n",
      "        (block): Sequential(\n",
      "          (0): Conv2d(32, 32, kernel_size=(3, 3), stride=(1, 1), padding=(1, 1))\n",
      "          (1): MaxPool2d(kernel_size=3, stride=2, padding=1, dilation=1, ceil_mode=False)\n",
      "          (2): ResidualBlock(\n",
      "            (layers): Sequential(\n",
      "              (0): ReLU()\n",
      "              (1): Conv2d(32, 32, kernel_size=(3, 3), stride=(1, 1), padding=(1, 1))\n",
      "              (2): ReLU()\n",
      "              (3): Conv2d(32, 32, kernel_size=(3, 3), stride=(1, 1), padding=(1, 1))\n",
      "            )\n",
      "          )\n",
      "          (3): ResidualBlock(\n",
      "            (layers): Sequential(\n",
      "              (0): ReLU()\n",
      "              (1): Conv2d(32, 32, kernel_size=(3, 3), stride=(1, 1), padding=(1, 1))\n",
      "              (2): ReLU()\n",
      "              (3): Conv2d(32, 32, kernel_size=(3, 3), stride=(1, 1), padding=(1, 1))\n",
      "            )\n",
      "          )\n",
      "        )\n",
      "      )\n",
      "      (3): ReLU()\n",
      "      (4): Flatten()\n",
      "      (5): Linear(in_features=2048, out_features=32, bias=True)\n",
      "      (6): ReLU()\n",
      "    )\n",
      "  )\n",
      "  (policy): Linear(in_features=32, out_features=15, bias=True)\n",
      "  (value): Linear(in_features=32, out_features=1, bias=True)\n",
      ")\n"
     ]
    }
   ],
   "source": [
    "num_actions = env.action_space.n\n",
    "policies = {\n",
    "    \"ppo\": PPO(encoder, feature_dim, num_actions),\n",
    "    \"trpo\": TRPO(encoder, feature_dim, num_actions, beta=params['beta'])\n",
    "}\n",
    "policy = policies[params['policy']]\n",
    "policy.cuda()\n",
    "print(policy)"
   ]
  },
  {
   "cell_type": "markdown",
   "metadata": {},
   "source": [
    "Throughout all experiments we have used the Adam optimizer. In our final experiments we have kept the learning rate consistent to avoid too many variying factors that could influence the results. Similarly, we have not utilized weight decay. The optimizer is defined as follows."
   ]
  },
  {
   "cell_type": "code",
   "execution_count": 6,
   "metadata": {},
   "outputs": [],
   "source": [
    "optimizer = torch.optim.Adam(policy.parameters(), lr=params['lr'])"
   ]
  },
  {
   "cell_type": "markdown",
   "metadata": {},
   "source": [
    "We then define a temporary storage for collecting and keeping track of transitions during each training iteration."
   ]
  },
  {
   "cell_type": "code",
   "execution_count": 7,
   "metadata": {},
   "outputs": [],
   "source": [
    "storage = Storage(\n",
    "    obs_shape=env.observation_space.shape,\n",
    "    num_steps=params[\"num_steps\"],\n",
    "    num_envs=params[\"num_envs\"],\n",
    "    act_shape=num_actions\n",
    ")"
   ]
  },
  {
   "cell_type": "markdown",
   "metadata": {},
   "source": [
    "The experiment class is then initialized. This is were the remaining parameters in the `param` dictionary become important. Variables such as `total_steps`, `num_steps`, and `batch_size` are used in the training loop."
   ]
  },
  {
   "cell_type": "code",
   "execution_count": 8,
   "metadata": {},
   "outputs": [],
   "source": [
    "exp = Experiment(params)"
   ]
  },
  {
   "cell_type": "markdown",
   "metadata": {},
   "source": [
    "Finally we can train the policy and collect the log. Notice the `verbose=True` argument enables intermediate printing to the console. This would normally be set to false except when debugging or explicitly showing results."
   ]
  },
  {
   "cell_type": "code",
   "execution_count": 9,
   "metadata": {},
   "outputs": [
    {
     "name": "stdout",
     "output_type": "stream",
     "text": [
      "Step: 8192\tMean train reward: 3.5719480514526367\n",
      "\t\tMean test reward: 3.950568675994873\n",
      "Step: 16384\tMean train reward: 2.9858241081237793\n",
      "\t\tMean test reward: 3.968907117843628\n",
      "Step: 24576\tMean train reward: 3.2133965492248535\n",
      "\t\tMean test reward: 2.963378667831421\n",
      "Step: 32768\tMean train reward: 3.6365129947662354\n",
      "\t\tMean test reward: 3.363976001739502\n",
      "Step: 40960\tMean train reward: 3.9814295768737793\n",
      "\t\tMean test reward: 2.472883701324463\n",
      "Step: 49152\tMean train reward: 3.688166618347168\n",
      "\t\tMean test reward: 3.7151870727539062\n",
      "Step: 57344\tMean train reward: 4.142335891723633\n",
      "\t\tMean test reward: 4.50001335144043\n",
      "Step: 65536\tMean train reward: 4.587725639343262\n",
      "\t\tMean test reward: 4.2706685066223145\n",
      "Step: 73728\tMean train reward: 4.629404544830322\n",
      "\t\tMean test reward: 4.424867630004883\n",
      "Step: 81920\tMean train reward: 5.042035102844238\n",
      "\t\tMean test reward: 5.320296764373779\n",
      "Step: 90112\tMean train reward: 5.475069999694824\n",
      "\t\tMean test reward: 5.218132972717285\n",
      "Step: 98304\tMean train reward: 6.653074264526367\n",
      "\t\tMean test reward: 5.025461673736572\n",
      "Step: 106496\tMean train reward: 6.389564514160156\n",
      "\t\tMean test reward: 4.884458541870117\n",
      "Step: 114688\tMean train reward: 6.949706554412842\n",
      "\t\tMean test reward: 5.803335189819336\n",
      "Step: 122880\tMean train reward: 6.835506439208984\n",
      "\t\tMean test reward: 5.671554088592529\n",
      "Step: 131072\tMean train reward: 7.174689292907715\n",
      "\t\tMean test reward: 5.8040947914123535\n",
      "Step: 139264\tMean train reward: 7.030738830566406\n",
      "\t\tMean test reward: 4.985573768615723\n",
      "Step: 147456\tMean train reward: 7.576758861541748\n",
      "\t\tMean test reward: 5.267804145812988\n",
      "Step: 155648\tMean train reward: 7.455209732055664\n",
      "\t\tMean test reward: 4.8870768547058105\n",
      "Step: 163840\tMean train reward: 7.504887580871582\n",
      "\t\tMean test reward: 5.630009651184082\n",
      "Step: 172032\tMean train reward: 8.037195205688477\n",
      "\t\tMean test reward: 5.654091835021973\n",
      "Step: 180224\tMean train reward: 7.70814323425293\n",
      "\t\tMean test reward: 5.413929462432861\n",
      "Step: 188416\tMean train reward: 7.781070709228516\n",
      "\t\tMean test reward: 5.558844566345215\n",
      "Step: 196608\tMean train reward: 8.246602058410645\n",
      "\t\tMean test reward: 5.7219696044921875\n",
      "Step: 204800\tMean train reward: 7.8397135734558105\n",
      "\t\tMean test reward: 5.674993515014648\n",
      "Step: 212992\tMean train reward: 8.077709197998047\n",
      "\t\tMean test reward: 5.382911205291748\n",
      "Step: 221184\tMean train reward: 7.542420387268066\n",
      "\t\tMean test reward: 5.849833011627197\n",
      "Step: 229376\tMean train reward: 8.716490745544434\n",
      "\t\tMean test reward: 5.973021030426025\n",
      "Step: 237568\tMean train reward: 8.147759437561035\n",
      "\t\tMean test reward: 5.23167085647583\n",
      "Step: 245760\tMean train reward: 8.619935035705566\n",
      "\t\tMean test reward: 5.7998046875\n",
      "Step: 253952\tMean train reward: 8.259486198425293\n",
      "\t\tMean test reward: 6.16828727722168\n",
      "Step: 262144\tMean train reward: 9.477425575256348\n",
      "\t\tMean test reward: 6.392230987548828\n",
      "Step: 270336\tMean train reward: 9.334659576416016\n",
      "\t\tMean test reward: 6.4731855392456055\n",
      "Step: 278528\tMean train reward: 8.36624813079834\n",
      "\t\tMean test reward: 5.803836345672607\n",
      "Step: 286720\tMean train reward: 8.503643989562988\n",
      "\t\tMean test reward: 6.655016899108887\n",
      "Step: 294912\tMean train reward: 9.054378509521484\n",
      "\t\tMean test reward: 6.325568199157715\n",
      "Step: 303104\tMean train reward: 9.299551010131836\n",
      "\t\tMean test reward: 6.325533866882324\n",
      "Step: 311296\tMean train reward: 9.093435287475586\n",
      "\t\tMean test reward: 6.379080772399902\n",
      "Step: 319488\tMean train reward: 10.170868873596191\n",
      "\t\tMean test reward: 7.1789469718933105\n",
      "Step: 327680\tMean train reward: 10.220741271972656\n",
      "\t\tMean test reward: 7.30364990234375\n",
      "Step: 335872\tMean train reward: 9.882991790771484\n",
      "\t\tMean test reward: 6.788115978240967\n",
      "Step: 344064\tMean train reward: 10.166716575622559\n",
      "\t\tMean test reward: 6.662816047668457\n",
      "Step: 352256\tMean train reward: 9.791253089904785\n",
      "\t\tMean test reward: 6.5745649337768555\n",
      "Step: 360448\tMean train reward: 9.481337547302246\n",
      "\t\tMean test reward: 6.456843376159668\n",
      "Step: 368640\tMean train reward: 10.073175430297852\n",
      "\t\tMean test reward: 6.771197319030762\n",
      "Step: 376832\tMean train reward: 10.177079200744629\n",
      "\t\tMean test reward: 6.8856425285339355\n",
      "Step: 385024\tMean train reward: 9.858623504638672\n",
      "\t\tMean test reward: 6.600401878356934\n",
      "Step: 393216\tMean train reward: 10.774176597595215\n",
      "\t\tMean test reward: 7.01773738861084\n",
      "Step: 401408\tMean train reward: 10.708727836608887\n",
      "\t\tMean test reward: 6.447056293487549\n",
      "Step: 409600\tMean train reward: 9.908380508422852\n",
      "\t\tMean test reward: 6.484258651733398\n",
      "Step: 417792\tMean train reward: 10.015958786010742\n",
      "\t\tMean test reward: 6.709320068359375\n",
      "Step: 425984\tMean train reward: 10.41172981262207\n",
      "\t\tMean test reward: 6.496780872344971\n",
      "Step: 434176\tMean train reward: 10.342723846435547\n",
      "\t\tMean test reward: 6.8059587478637695\n",
      "Step: 442368\tMean train reward: 10.630871772766113\n",
      "\t\tMean test reward: 6.358774185180664\n",
      "Step: 450560\tMean train reward: 10.22240161895752\n",
      "\t\tMean test reward: 7.04302453994751\n",
      "Step: 458752\tMean train reward: 10.859087944030762\n",
      "\t\tMean test reward: 6.987752437591553\n",
      "Step: 466944\tMean train reward: 10.769058227539062\n",
      "\t\tMean test reward: 6.749636650085449\n",
      "Step: 475136\tMean train reward: 10.537004470825195\n",
      "\t\tMean test reward: 7.009133815765381\n",
      "Step: 483328\tMean train reward: 10.371320724487305\n",
      "\t\tMean test reward: 6.6302690505981445\n",
      "Step: 491520\tMean train reward: 10.252801895141602\n",
      "\t\tMean test reward: 7.340370178222656\n",
      "Step: 499712\tMean train reward: 10.887940406799316\n",
      "\t\tMean test reward: 7.5799560546875\n",
      "Step: 507904\tMean train reward: 11.030227661132812\n",
      "\t\tMean test reward: 7.068745136260986\n"
     ]
    }
   ],
   "source": [
    "policy, log = exp.train(env, policy, optimizer, storage, verbose=True)"
   ]
  },
  {
   "cell_type": "markdown",
   "metadata": {},
   "source": [
    "We can then save the results. We both save the policy and the log."
   ]
  },
  {
   "cell_type": "code",
   "execution_count": 10,
   "metadata": {},
   "outputs": [],
   "source": [
    "torch.save(policy.state_dict, 'overview-policy.pt') # Save policy.\n",
    "torch.save(log, 'overview.pt') # Save logging."
   ]
  },
  {
   "cell_type": "markdown",
   "metadata": {},
   "source": [
    "## Visualizing the results"
   ]
  },
  {
   "cell_type": "markdown",
   "metadata": {},
   "source": [
    "The folder `results` contains python scripts for plotting the figures in our poster and report. Below we will plot a figure for the small experiment we just carried out."
   ]
  },
  {
   "cell_type": "code",
   "execution_count": 11,
   "metadata": {},
   "outputs": [],
   "source": [
    "import matplotlib.pyplot as plt\n",
    "from matplotlib import rc"
   ]
  },
  {
   "cell_type": "markdown",
   "metadata": {},
   "source": [
    "Read the log of the experiment we just carried out."
   ]
  },
  {
   "cell_type": "code",
   "execution_count": 12,
   "metadata": {},
   "outputs": [],
   "source": [
    "exp = torch.load('overview.pt', map_location=torch.device('cpu'))"
   ]
  },
  {
   "cell_type": "markdown",
   "metadata": {},
   "source": [
    "Specify the plotting and text style."
   ]
  },
  {
   "cell_type": "code",
   "execution_count": 13,
   "metadata": {},
   "outputs": [],
   "source": [
    "plt.style.use('seaborn-poster')\n",
    "plt.rc('grid', linestyle=\"--\", color='grey', alpha=0.2)\n",
    "rc('font', **{'family': 'serif'})\n",
    "rc('text', usetex=True)"
   ]
  },
  {
   "cell_type": "markdown",
   "metadata": {},
   "source": [
    "Create figure, specify axis options, and plot test and train mean episodic reward."
   ]
  },
  {
   "cell_type": "code",
   "execution_count": 14,
   "metadata": {},
   "outputs": [
    {
     "data": {
      "image/png": "[encoded data removed]",
      "text/plain": [
       "<Figure size 864x360 with 1 Axes>"
      ]
     },
     "metadata": {
      "needs_background": "light"
     },
     "output_type": "display_data"
    }
   ],
   "source": [
    "fig, ax = plt.subplots(figsize=(12,5))\n",
    "ax.grid(True)\n",
    "ax.spines['top'].set_visible(False)\n",
    "ax.spines['right'].set_visible(False)\n",
    "ax.plot(exp['step'], exp['train_mean_reward'], 'C3')\n",
    "ax.plot(exp['step'], exp['test_mean_reward'], 'C3--')\n",
    "ax.set_xlabel('Number of steps')\n",
    "ax.set_ylabel('Mean episodic reward')\n",
    "ax.legend(['Train', 'Test'])\n",
    "plt.show()"
   ]
  },
  {
   "cell_type": "markdown",
   "metadata": {},
   "source": [
    "We see that training error is larger than the test error. This is to be expected. However, the plot also indicates that the policy is actually learning something. It is, however, important to note that the model is only trained for 5e5 steps."
   ]
  },
  {
   "cell_type": "markdown",
   "metadata": {},
   "source": [
    "## Wrapping up"
   ]
  },
  {
   "cell_type": "markdown",
   "metadata": {},
   "source": [
    "In this notebook we have described the overall structure of the code and the experiments. All of the experiments carried out can be found in the folder `params` - we carried out more than 51 experiments with compute times ranging from 1.5 to 8 hours. The results and the scripts for visualizing can be found in the folder `results` in the pickle serialization format. The code shown here should work as an overview of the code base. For a better understanding of how we implement PPO, TRPO, and IMPALA CNN, see the report and the full code base on Github.\n",
    "\n",
    "The code can be found here: https://github.com/NielsFuglsang/02456-Deep-Learning.\n",
    "\n",
    "Videos of the agents playing can be seen here: https://bit.ly/39OGphQ"
   ]
  }
 ],
 "metadata": {
  "kernelspec": {
   "display_name": "Python 3",
   "language": "python",
   "name": "python3"
  },
  "language_info": {
   "codemirror_mode": {
    "name": "ipython",
    "version": 3
   },
   "file_extension": ".py",
   "mimetype": "text/x-python",
   "name": "python",
   "nbconvert_exporter": "python",
   "pygments_lexer": "ipython3",
   "version": "3.7.7"
  }
 },
 "nbformat": 4,
 "nbformat_minor": 4
}
